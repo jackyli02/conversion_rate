{
 "cells": [
  {
   "cell_type": "markdown",
   "metadata": {},
   "source": [
    "# Conversion Rate Prediction\n",
    "Author: Jacky Li"
   ]
  },
  {
   "cell_type": "markdown",
   "metadata": {},
   "source": [
    "Problem: Build a Model to prdict conversion rate. Give suggestions on how to prove conversion rate"
   ]
  },
  {
   "cell_type": "code",
   "execution_count": 2,
   "metadata": {},
   "outputs": [],
   "source": [
    "import numpy as np\n",
    "import pandas as pd\n",
    "import matplotlib.pyplot as plt\n",
    "\n",
    "import sklearn\n",
    "from sklearn.model_selection import train_test_split\n",
    "from sklearn.pipeline import Pipeline\n",
    "from sklearn.preprocessing import OneHotEncoder\n",
    "from sklearn.preprocessing import MinMaxScaler\n",
    "from sklearn.linear_model import LogisticRegression\n",
    "from sklearn.ensemble import RandomForestClassifier\n",
    "from sklearn.svm import SVC\n",
    "from sklearn.metrics import accuracy_score\n",
    "from sklearn.metrics import confusion_matrix"
   ]
  },
  {
   "cell_type": "markdown",
   "metadata": {},
   "source": [
    "## Preparation"
   ]
  },
  {
   "cell_type": "markdown",
   "metadata": {},
   "source": [
    "### Import Data"
   ]
  },
  {
   "cell_type": "code",
   "execution_count": 4,
   "metadata": {},
   "outputs": [
    {
     "data": {
      "text/html": [
       "<div>\n",
       "<style scoped>\n",
       "    .dataframe tbody tr th:only-of-type {\n",
       "        vertical-align: middle;\n",
       "    }\n",
       "\n",
       "    .dataframe tbody tr th {\n",
       "        vertical-align: top;\n",
       "    }\n",
       "\n",
       "    .dataframe thead th {\n",
       "        text-align: right;\n",
       "    }\n",
       "</style>\n",
       "<table border=\"1\" class=\"dataframe\">\n",
       "  <thead>\n",
       "    <tr style=\"text-align: right;\">\n",
       "      <th></th>\n",
       "      <th>country</th>\n",
       "      <th>age</th>\n",
       "      <th>new_user</th>\n",
       "      <th>source</th>\n",
       "      <th>total_pages_visited</th>\n",
       "      <th>converted</th>\n",
       "    </tr>\n",
       "  </thead>\n",
       "  <tbody>\n",
       "    <tr>\n",
       "      <td>0</td>\n",
       "      <td>UK</td>\n",
       "      <td>25</td>\n",
       "      <td>1</td>\n",
       "      <td>Ads</td>\n",
       "      <td>1</td>\n",
       "      <td>0</td>\n",
       "    </tr>\n",
       "    <tr>\n",
       "      <td>1</td>\n",
       "      <td>US</td>\n",
       "      <td>23</td>\n",
       "      <td>1</td>\n",
       "      <td>Seo</td>\n",
       "      <td>5</td>\n",
       "      <td>0</td>\n",
       "    </tr>\n",
       "    <tr>\n",
       "      <td>2</td>\n",
       "      <td>US</td>\n",
       "      <td>28</td>\n",
       "      <td>1</td>\n",
       "      <td>Seo</td>\n",
       "      <td>4</td>\n",
       "      <td>0</td>\n",
       "    </tr>\n",
       "    <tr>\n",
       "      <td>3</td>\n",
       "      <td>China</td>\n",
       "      <td>39</td>\n",
       "      <td>1</td>\n",
       "      <td>Seo</td>\n",
       "      <td>5</td>\n",
       "      <td>0</td>\n",
       "    </tr>\n",
       "    <tr>\n",
       "      <td>4</td>\n",
       "      <td>US</td>\n",
       "      <td>30</td>\n",
       "      <td>1</td>\n",
       "      <td>Seo</td>\n",
       "      <td>6</td>\n",
       "      <td>0</td>\n",
       "    </tr>\n",
       "  </tbody>\n",
       "</table>\n",
       "</div>"
      ],
      "text/plain": [
       "  country  age  new_user source  total_pages_visited  converted\n",
       "0      UK   25         1    Ads                    1          0\n",
       "1      US   23         1    Seo                    5          0\n",
       "2      US   28         1    Seo                    4          0\n",
       "3   China   39         1    Seo                    5          0\n",
       "4      US   30         1    Seo                    6          0"
      ]
     },
     "execution_count": 4,
     "metadata": {},
     "output_type": "execute_result"
    }
   ],
   "source": [
    "cr_raw = pd.read_csv(\"conversion_data.csv\")\n",
    "cr_raw.head()"
   ]
  },
  {
   "cell_type": "code",
   "execution_count": 5,
   "metadata": {},
   "outputs": [
    {
     "data": {
      "text/plain": [
       "(316200, 6)"
      ]
     },
     "execution_count": 5,
     "metadata": {},
     "output_type": "execute_result"
    }
   ],
   "source": [
    "cr_raw.shape#size of dataset"
   ]
  },
  {
   "cell_type": "code",
   "execution_count": 6,
   "metadata": {},
   "outputs": [
    {
     "name": "stdout",
     "output_type": "stream",
     "text": [
      "<class 'pandas.core.frame.DataFrame'>\n",
      "RangeIndex: 316200 entries, 0 to 316199\n",
      "Data columns (total 6 columns):\n",
      "country                316200 non-null object\n",
      "age                    316200 non-null int64\n",
      "new_user               316200 non-null int64\n",
      "source                 316200 non-null object\n",
      "total_pages_visited    316200 non-null int64\n",
      "converted              316200 non-null int64\n",
      "dtypes: int64(4), object(2)\n",
      "memory usage: 14.5+ MB\n"
     ]
    }
   ],
   "source": [
    "cr_raw.info()#type of each column"
   ]
  },
  {
   "cell_type": "markdown",
   "metadata": {},
   "source": [
    "### Split training, validation, and testing data"
   ]
  },
  {
   "cell_type": "code",
   "execution_count": 7,
   "metadata": {},
   "outputs": [],
   "source": [
    "X = cr_raw.drop(\"converted\", axis = 1)\n",
    "y = cr_raw[\"converted\"]\n",
    "X_train, X_else, y_train, y_else = train_test_split(X, y, test_size = 0.2)\n",
    "X_val, X_test, y_val, y_test = train_test_split(X_else, y_else, test_size = 0.5)"
   ]
  },
  {
   "cell_type": "markdown",
   "metadata": {},
   "source": [
    "## EDA"
   ]
  },
  {
   "cell_type": "markdown",
   "metadata": {},
   "source": [
    "### Numerical Values"
   ]
  },
  {
   "cell_type": "code",
   "execution_count": 8,
   "metadata": {},
   "outputs": [
    {
     "data": {
      "text/html": [
       "<div>\n",
       "<style scoped>\n",
       "    .dataframe tbody tr th:only-of-type {\n",
       "        vertical-align: middle;\n",
       "    }\n",
       "\n",
       "    .dataframe tbody tr th {\n",
       "        vertical-align: top;\n",
       "    }\n",
       "\n",
       "    .dataframe thead th {\n",
       "        text-align: right;\n",
       "    }\n",
       "</style>\n",
       "<table border=\"1\" class=\"dataframe\">\n",
       "  <thead>\n",
       "    <tr style=\"text-align: right;\">\n",
       "      <th></th>\n",
       "      <th>age</th>\n",
       "      <th>total_pages_visited</th>\n",
       "    </tr>\n",
       "  </thead>\n",
       "  <tbody>\n",
       "    <tr>\n",
       "      <td>count</td>\n",
       "      <td>252960.000000</td>\n",
       "      <td>252960.000000</td>\n",
       "    </tr>\n",
       "    <tr>\n",
       "      <td>mean</td>\n",
       "      <td>30.572000</td>\n",
       "      <td>4.874893</td>\n",
       "    </tr>\n",
       "    <tr>\n",
       "      <td>std</td>\n",
       "      <td>8.273398</td>\n",
       "      <td>3.343562</td>\n",
       "    </tr>\n",
       "    <tr>\n",
       "      <td>min</td>\n",
       "      <td>17.000000</td>\n",
       "      <td>1.000000</td>\n",
       "    </tr>\n",
       "    <tr>\n",
       "      <td>25%</td>\n",
       "      <td>24.000000</td>\n",
       "      <td>2.000000</td>\n",
       "    </tr>\n",
       "    <tr>\n",
       "      <td>50%</td>\n",
       "      <td>30.000000</td>\n",
       "      <td>4.000000</td>\n",
       "    </tr>\n",
       "    <tr>\n",
       "      <td>75%</td>\n",
       "      <td>36.000000</td>\n",
       "      <td>7.000000</td>\n",
       "    </tr>\n",
       "    <tr>\n",
       "      <td>max</td>\n",
       "      <td>123.000000</td>\n",
       "      <td>29.000000</td>\n",
       "    </tr>\n",
       "  </tbody>\n",
       "</table>\n",
       "</div>"
      ],
      "text/plain": [
       "                 age  total_pages_visited\n",
       "count  252960.000000        252960.000000\n",
       "mean       30.572000             4.874893\n",
       "std         8.273398             3.343562\n",
       "min        17.000000             1.000000\n",
       "25%        24.000000             2.000000\n",
       "50%        30.000000             4.000000\n",
       "75%        36.000000             7.000000\n",
       "max       123.000000            29.000000"
      ]
     },
     "execution_count": 8,
     "metadata": {},
     "output_type": "execute_result"
    }
   ],
   "source": [
    "X_train[[\"age\", \"total_pages_visited\"]].describe()#look at numerical training data"
   ]
  },
  {
   "cell_type": "code",
   "execution_count": 9,
   "metadata": {},
   "outputs": [
    {
     "name": "stdout",
     "output_type": "stream",
     "text": [
      "age\n",
      "17      6091\n",
      "18      6707\n",
      "19      7456\n",
      "20      8149\n",
      "21      8840\n",
      "22      9381\n",
      "23      9872\n",
      "24     10368\n",
      "25     10822\n",
      "26     11083\n",
      "27     11243\n",
      "28     11480\n",
      "29     11368\n",
      "30     11390\n",
      "31     10933\n",
      "32     10789\n",
      "33     10211\n",
      "34      9632\n",
      "35      9168\n",
      "36      8610\n",
      "37      7732\n",
      "38      7150\n",
      "39      6577\n",
      "40      5756\n",
      "41      5162\n",
      "42      4458\n",
      "43      3969\n",
      "44      3409\n",
      "45      2900\n",
      "46      2384\n",
      "47      2026\n",
      "48      1693\n",
      "49      1272\n",
      "50      1087\n",
      "51       860\n",
      "52       752\n",
      "53       523\n",
      "54       426\n",
      "55       317\n",
      "56       230\n",
      "57       208\n",
      "58       115\n",
      "59       100\n",
      "60        79\n",
      "61        55\n",
      "62        41\n",
      "63        26\n",
      "64        22\n",
      "65        12\n",
      "66         9\n",
      "67         4\n",
      "68         4\n",
      "69         2\n",
      "70         2\n",
      "72         1\n",
      "73         1\n",
      "77         1\n",
      "79         1\n",
      "123        1\n",
      "Name: country, dtype: int64\n"
     ]
    }
   ],
   "source": [
    "age_count = X_train.groupby(\"age\").count()[\"country\"]\n",
    "print(age_count)"
   ]
  },
  {
   "cell_type": "markdown",
   "metadata": {},
   "source": [
    "Here, age 111 and 123 are the outliers and doesn't make sense in terms of common sense. Since there are only two of these values, we'll remove these two rows from our training set."
   ]
  },
  {
   "cell_type": "code",
   "execution_count": 10,
   "metadata": {},
   "outputs": [],
   "source": [
    "#remove two outliers\n",
    "keep = X_train[\"age\"] < 100\n",
    "X_train = X_train[keep]\n",
    "y_train = y_train[keep]"
   ]
  },
  {
   "cell_type": "code",
   "execution_count": 11,
   "metadata": {},
   "outputs": [
    {
     "data": {
      "text/plain": [
       "total_pages_visited\n",
       "1     32635\n",
       "2     35128\n",
       "3     35004\n",
       "4     32787\n",
       "5     28990\n",
       "6     24154\n",
       "7     18843\n",
       "8     14017\n",
       "9      9736\n",
       "10     6479\n",
       "11     4363\n",
       "12     2887\n",
       "13     1941\n",
       "14     1459\n",
       "15     1053\n",
       "16      881\n",
       "17      701\n",
       "18      571\n",
       "19      445\n",
       "20      329\n",
       "21      237\n",
       "22      138\n",
       "23       96\n",
       "24       33\n",
       "25       33\n",
       "26       11\n",
       "27        5\n",
       "28        1\n",
       "29        2\n",
       "Name: age, dtype: int64"
      ]
     },
     "execution_count": 11,
     "metadata": {},
     "output_type": "execute_result"
    }
   ],
   "source": [
    "X_train.groupby(\"total_pages_visited\")[\"age\"].count()"
   ]
  },
  {
   "cell_type": "markdown",
   "metadata": {},
   "source": [
    "Most people visited the page less than ten times, and the most common value for time visited is 2 and 3."
   ]
  },
  {
   "cell_type": "markdown",
   "metadata": {},
   "source": [
    "#### Visualizations"
   ]
  },
  {
   "cell_type": "code",
   "execution_count": 14,
   "metadata": {},
   "outputs": [],
   "source": [
    "train = pd.concat([X_train.reset_index(drop = True), y_train.reset_index(drop = True)], axis = 1)\n",
    "age_rate = train.groupby(\"age\")[\"converted\"].sum() / train.groupby(\"age\")[\"converted\"].count()\n",
    "tpv_rate = train.groupby(\"total_pages_visited\")[\"converted\"].sum() / train.groupby(\"total_pages_visited\")[\"converted\"].count()"
   ]
  },
  {
   "cell_type": "code",
   "execution_count": 15,
   "metadata": {},
   "outputs": [
    {
     "data": {
      "image/png": "[encoded data removed]",
      "text/plain": [
       "<Figure size 432x288 with 2 Axes>"
      ]
     },
     "metadata": {
      "needs_background": "light"
     },
     "output_type": "display_data"
    }
   ],
   "source": [
    "fig, axs = plt.subplots(2)\n",
    "axs[0].plot(age_rate.index, age_rate)\n",
    "axs[0].set(xlabel = \"age\", ylabel = \"conversion rate\", title = \"Age and Conversion Rate\")\n",
    "axs[1].plot(tpv_rate.index, tpv_rate)\n",
    "axs[1].set(xlabel = \"total pages viewed\", ylabel = \"conversion rate\", title = \"Total Pages Viewed and Conversion Rate\")\n",
    "fig.tight_layout()\n",
    "plt.show()"
   ]
  },
  {
   "cell_type": "markdown",
   "metadata": {},
   "source": [
    "We can see that age is negaively correlated with conversion rate while total pages viewed is positively correlated with conversion rate."
   ]
  },
  {
   "cell_type": "code",
   "execution_count": 16,
   "metadata": {},
   "outputs": [
    {
     "data": {
      "image/png": "[encoded data removed]",
      "text/plain": [
       "<Figure size 432x288 with 2 Axes>"
      ]
     },
     "metadata": {
      "needs_background": "light"
     },
     "output_type": "display_data"
    }
   ],
   "source": [
    "age_count2 = X_train.groupby(\"age\").count()[\"country\"]\n",
    "fig, axs = plt.subplots(2)\n",
    "axs[0].plot(age_rate.index, age_rate)\n",
    "axs[0].set(xlabel = \"age\", ylabel = \"conversion rate\", title = \"Age and Conversion Rate\")\n",
    "axs[1].bar(age_count2.index, age_count2)\n",
    "axs[1].set(xlabel = \"age\", ylabel = \"count\", title = \"Number of People for each Age\")\n",
    "fig.tight_layout()\n",
    "plt.show()"
   ]
  },
  {
   "cell_type": "markdown",
   "metadata": {},
   "source": [
    " The rest of the age data skews to the right and the center is around 28."
   ]
  },
  {
   "cell_type": "code",
   "execution_count": 17,
   "metadata": {},
   "outputs": [
    {
     "data": {
      "image/png": "[encoded data removed]",
      "text/plain": [
       "<Figure size 432x288 with 2 Axes>"
      ]
     },
     "metadata": {
      "needs_background": "light"
     },
     "output_type": "display_data"
    }
   ],
   "source": [
    "tpv_count = X_train.groupby(\"total_pages_visited\").count()[\"country\"]\n",
    "fig, axs = plt.subplots(2)\n",
    "axs[0].plot(tpv_rate.index, tpv_rate)\n",
    "axs[0].set(xlabel = \"total pages visited\", ylabel = \"conversion rate\", title = \"Total Pages Viewed and Conversion Rate\")\n",
    "axs[1].bar(tpv_count.index, tpv_count)\n",
    "axs[1].set(xlabel = \"total pages visited\", ylabel = \"count\", title = \"Number of People for Each Value of Total Pages Visited\")\n",
    "fig.tight_layout()\n",
    "plt.show()"
   ]
  },
  {
   "cell_type": "markdown",
   "metadata": {},
   "source": [
    "### Categorical Values"
   ]
  },
  {
   "cell_type": "code",
   "execution_count": 18,
   "metadata": {},
   "outputs": [
    {
     "data": {
      "text/plain": [
       "country\n",
       "US         142598\n",
       "China       61295\n",
       "UK          38613\n",
       "Germany     10453\n",
       "Name: age, dtype: int64"
      ]
     },
     "execution_count": 18,
     "metadata": {},
     "output_type": "execute_result"
    }
   ],
   "source": [
    "X_train.groupby(\"country\")[\"age\"].count().sort_values(ascending = False)"
   ]
  },
  {
   "cell_type": "markdown",
   "metadata": {},
   "source": [
    "Most users are from the US, followed by China, UK, and Germany"
   ]
  },
  {
   "cell_type": "code",
   "execution_count": 19,
   "metadata": {},
   "outputs": [
    {
     "data": {
      "text/plain": [
       "new_user\n",
       "1    173415\n",
       "0     79544\n",
       "Name: age, dtype: int64"
      ]
     },
     "execution_count": 19,
     "metadata": {},
     "output_type": "execute_result"
    }
   ],
   "source": [
    "X_train.groupby(\"new_user\")[\"age\"].count().sort_values(ascending = False)"
   ]
  },
  {
   "cell_type": "markdown",
   "metadata": {},
   "source": [
    "The majority of the users documented are new users"
   ]
  },
  {
   "cell_type": "code",
   "execution_count": 20,
   "metadata": {},
   "outputs": [
    {
     "data": {
      "text/plain": [
       "source\n",
       "Seo       124095\n",
       "Ads        71037\n",
       "Direct     57827\n",
       "Name: age, dtype: int64"
      ]
     },
     "execution_count": 20,
     "metadata": {},
     "output_type": "execute_result"
    }
   ],
   "source": [
    "X_train.groupby(\"source\")[\"age\"].count().sort_values(ascending = False)"
   ]
  },
  {
   "cell_type": "markdown",
   "metadata": {},
   "source": [
    "Most users are from seo, followed by Ads and Direct"
   ]
  },
  {
   "cell_type": "markdown",
   "metadata": {},
   "source": [
    "#### Visualizations"
   ]
  },
  {
   "cell_type": "code",
   "execution_count": 21,
   "metadata": {},
   "outputs": [],
   "source": [
    "country_rate = train.groupby(\"country\")[\"converted\"].sum() / train.groupby(\"country\")[\"converted\"].count()\n",
    "nu_rate = train.groupby(\"new_user\")[\"converted\"].sum() / train.groupby(\"new_user\")[\"converted\"].count()\n",
    "nu_rate.index = [\"not new user\", \"new user\"]\n",
    "source_rate = train.groupby(\"source\")[\"converted\"].sum() / train.groupby(\"source\")[\"converted\"].count()"
   ]
  },
  {
   "cell_type": "code",
   "execution_count": 22,
   "metadata": {},
   "outputs": [
    {
     "data": {
      "image/png": "[encoded data removed]",
      "text/plain": [
       "<Figure size 576x1152 with 3 Axes>"
      ]
     },
     "metadata": {
      "needs_background": "light"
     },
     "output_type": "display_data"
    }
   ],
   "source": [
    "fig, axs = plt.subplots(3, figsize = (8, 16))\n",
    "axs[0].bar(country_rate.index, country_rate)\n",
    "axs[0].set(xlabel = \"country\", ylabel = \"conversion rate\", title = \"Country and Conversion Rate\")\n",
    "axs[1].bar(nu_rate.index, nu_rate)\n",
    "axs[1].set(xlabel = \"new user\", ylabel = \"conversion rate\", title = \"New User and Conversion Rate\")\n",
    "axs[2].bar(source_rate.index, source_rate)\n",
    "axs[2].set(xlabel = \"source\", ylabel = \"conversion rate\", title = \"Source and Conversion Rate\")\n",
    "plt.show()"
   ]
  },
  {
   "cell_type": "markdown",
   "metadata": {},
   "source": [
    "China's conversion rate is very low compare to the rest of thee counries. Germany has the highest conversion rate, followed by UK and US."
   ]
  },
  {
   "cell_type": "markdown",
   "metadata": {},
   "source": [
    "## Building the model"
   ]
  },
  {
   "cell_type": "markdown",
   "metadata": {},
   "source": [
    "### Cleaning the Data"
   ]
  },
  {
   "cell_type": "code",
   "execution_count": 23,
   "metadata": {},
   "outputs": [
    {
     "name": "stdout",
     "output_type": "stream",
     "text": [
      "country                0\n",
      "age                    0\n",
      "new_user               0\n",
      "source                 0\n",
      "total_pages_visited    0\n",
      "dtype: int64\n",
      "0\n"
     ]
    }
   ],
   "source": [
    "print(X_train.isna().sum())\n",
    "print(y_train.isna().sum())"
   ]
  },
  {
   "cell_type": "markdown",
   "metadata": {},
   "source": [
    "Our training set does not contain missing values."
   ]
  },
  {
   "cell_type": "markdown",
   "metadata": {},
   "source": [
    "#### convert categorical data"
   ]
  },
  {
   "cell_type": "code",
   "execution_count": 28,
   "metadata": {},
   "outputs": [],
   "source": [
    "encoder = OneHotEncoder()\n",
    "X_train_encoded_par = encoder.fit_transform(X_train[[\"country\", \"source\"]])"
   ]
  },
  {
   "cell_type": "code",
   "execution_count": 29,
   "metadata": {},
   "outputs": [],
   "source": [
    "cat_features = encoder.get_feature_names_out([\"country\", \"source\"])\n",
    "X_train_encoded_par = pd.DataFrame(X_train_encoded_par.toarray())\n",
    "X_train_encoded_par.columns = cat_features"
   ]
  },
  {
   "cell_type": "code",
   "execution_count": 30,
   "metadata": {},
   "outputs": [],
   "source": [
    "X_train = X_train.reset_index(drop = True) #reset index so the indexs are aligned"
   ]
  },
  {
   "cell_type": "code",
   "execution_count": 31,
   "metadata": {},
   "outputs": [
    {
     "data": {
      "text/html": [
       "<div>\n",
       "<style scoped>\n",
       "    .dataframe tbody tr th:only-of-type {\n",
       "        vertical-align: middle;\n",
       "    }\n",
       "\n",
       "    .dataframe tbody tr th {\n",
       "        vertical-align: top;\n",
       "    }\n",
       "\n",
       "    .dataframe thead th {\n",
       "        text-align: right;\n",
       "    }\n",
       "</style>\n",
       "<table border=\"1\" class=\"dataframe\">\n",
       "  <thead>\n",
       "    <tr style=\"text-align: right;\">\n",
       "      <th></th>\n",
       "      <th>age</th>\n",
       "      <th>new_user</th>\n",
       "      <th>total_pages_visited</th>\n",
       "      <th>country_China</th>\n",
       "      <th>country_Germany</th>\n",
       "      <th>country_UK</th>\n",
       "      <th>country_US</th>\n",
       "      <th>source_Ads</th>\n",
       "      <th>source_Direct</th>\n",
       "      <th>source_Seo</th>\n",
       "    </tr>\n",
       "  </thead>\n",
       "  <tbody>\n",
       "    <tr>\n",
       "      <td>0</td>\n",
       "      <td>24</td>\n",
       "      <td>1</td>\n",
       "      <td>9</td>\n",
       "      <td>0.0</td>\n",
       "      <td>0.0</td>\n",
       "      <td>0.0</td>\n",
       "      <td>1.0</td>\n",
       "      <td>0.0</td>\n",
       "      <td>1.0</td>\n",
       "      <td>0.0</td>\n",
       "    </tr>\n",
       "    <tr>\n",
       "      <td>1</td>\n",
       "      <td>43</td>\n",
       "      <td>1</td>\n",
       "      <td>8</td>\n",
       "      <td>1.0</td>\n",
       "      <td>0.0</td>\n",
       "      <td>0.0</td>\n",
       "      <td>0.0</td>\n",
       "      <td>1.0</td>\n",
       "      <td>0.0</td>\n",
       "      <td>0.0</td>\n",
       "    </tr>\n",
       "    <tr>\n",
       "      <td>2</td>\n",
       "      <td>17</td>\n",
       "      <td>1</td>\n",
       "      <td>4</td>\n",
       "      <td>0.0</td>\n",
       "      <td>0.0</td>\n",
       "      <td>0.0</td>\n",
       "      <td>1.0</td>\n",
       "      <td>0.0</td>\n",
       "      <td>1.0</td>\n",
       "      <td>0.0</td>\n",
       "    </tr>\n",
       "    <tr>\n",
       "      <td>3</td>\n",
       "      <td>41</td>\n",
       "      <td>1</td>\n",
       "      <td>10</td>\n",
       "      <td>0.0</td>\n",
       "      <td>0.0</td>\n",
       "      <td>0.0</td>\n",
       "      <td>1.0</td>\n",
       "      <td>0.0</td>\n",
       "      <td>1.0</td>\n",
       "      <td>0.0</td>\n",
       "    </tr>\n",
       "    <tr>\n",
       "      <td>4</td>\n",
       "      <td>19</td>\n",
       "      <td>0</td>\n",
       "      <td>3</td>\n",
       "      <td>0.0</td>\n",
       "      <td>0.0</td>\n",
       "      <td>0.0</td>\n",
       "      <td>1.0</td>\n",
       "      <td>0.0</td>\n",
       "      <td>0.0</td>\n",
       "      <td>1.0</td>\n",
       "    </tr>\n",
       "  </tbody>\n",
       "</table>\n",
       "</div>"
      ],
      "text/plain": [
       "   age  new_user  total_pages_visited  country_China  country_Germany  \\\n",
       "0   24         1                    9            0.0              0.0   \n",
       "1   43         1                    8            1.0              0.0   \n",
       "2   17         1                    4            0.0              0.0   \n",
       "3   41         1                   10            0.0              0.0   \n",
       "4   19         0                    3            0.0              0.0   \n",
       "\n",
       "   country_UK  country_US  source_Ads  source_Direct  source_Seo  \n",
       "0         0.0         1.0         0.0            1.0         0.0  \n",
       "1         0.0         0.0         1.0            0.0         0.0  \n",
       "2         0.0         1.0         0.0            1.0         0.0  \n",
       "3         0.0         1.0         0.0            1.0         0.0  \n",
       "4         0.0         1.0         0.0            0.0         1.0  "
      ]
     },
     "execution_count": 31,
     "metadata": {},
     "output_type": "execute_result"
    }
   ],
   "source": [
    "X_train_encoded = pd.concat([X_train.drop([\"country\", \"source\"], axis = 1), X_train_encoded_par], axis = 1)\n",
    "X_train_encoded.head()"
   ]
  },
  {
   "cell_type": "markdown",
   "metadata": {},
   "source": [
    "#### Scale the Data"
   ]
  },
  {
   "cell_type": "code",
   "execution_count": 32,
   "metadata": {},
   "outputs": [
    {
     "data": {
      "text/plain": [
       "array([[0.11290323, 1.        , 0.28571429, 0.        , 0.        ,\n",
       "        0.        , 1.        , 0.        , 1.        , 0.        ],\n",
       "       [0.41935484, 1.        , 0.25      , 1.        , 0.        ,\n",
       "        0.        , 0.        , 1.        , 0.        , 0.        ],\n",
       "       [0.        , 1.        , 0.10714286, 0.        , 0.        ,\n",
       "        0.        , 1.        , 0.        , 1.        , 0.        ],\n",
       "       [0.38709677, 1.        , 0.32142857, 0.        , 0.        ,\n",
       "        0.        , 1.        , 0.        , 1.        , 0.        ],\n",
       "       [0.03225806, 0.        , 0.07142857, 0.        , 0.        ,\n",
       "        0.        , 1.        , 0.        , 0.        , 1.        ]])"
      ]
     },
     "execution_count": 32,
     "metadata": {},
     "output_type": "execute_result"
    }
   ],
   "source": [
    "scaler = MinMaxScaler()\n",
    "X_train_clean = scaler.fit_transform(X_train_encoded)\n",
    "X_train_clean[:5, ]"
   ]
  },
  {
   "cell_type": "code",
   "execution_count": 33,
   "metadata": {},
   "outputs": [],
   "source": [
    "#define the function to transform data (for validation and test sets)\n",
    "def transform_cr (df):\n",
    "    encoded_par = encoder.transform(df[[\"country\", \"source\"]])\n",
    "    encoded_par = pd.DataFrame(encoded_par.toarray())\n",
    "    encoded_par.columns = cat_features\n",
    "    df = df.reset_index(drop = True)\n",
    "    encoded = pd.concat([df.drop([\"country\", \"source\"], axis = 1), encoded_par], axis = 1)\n",
    "    clean = scaler.fit_transform(encoded)\n",
    "    return clean"
   ]
  },
  {
   "cell_type": "markdown",
   "metadata": {},
   "source": [
    "### Fit Models"
   ]
  },
  {
   "cell_type": "markdown",
   "metadata": {},
   "source": [
    "#### Logistic Regression"
   ]
  },
  {
   "cell_type": "code",
   "execution_count": 34,
   "metadata": {},
   "outputs": [],
   "source": [
    "def fit_get_score(model, x, y):\n",
    "    model.fit(x, y)\n",
    "    pred = model.predict(x)\n",
    "    print(\"Training accuracy score: \",accuracy_score(y, pred))\n",
    "def val_predict_get_score(model, x, y):\n",
    "    pred = model.predict(x)\n",
    "    print(\"Validation accuracy score: \",accuracy_score(y, pred))"
   ]
  },
  {
   "cell_type": "code",
   "execution_count": 35,
   "metadata": {},
   "outputs": [
    {
     "name": "stdout",
     "output_type": "stream",
     "text": [
      "Training accuracy score:  0.9860451693752742\n"
     ]
    }
   ],
   "source": [
    "LR = LogisticRegression()\n",
    "fit_get_score(LR, X_train_clean, y_train)"
   ]
  },
  {
   "cell_type": "code",
   "execution_count": 36,
   "metadata": {},
   "outputs": [
    {
     "data": {
      "text/plain": [
       "array([[-4.44379397, -1.71279898, 20.45256619, -2.57651415,  1.05605377,\n",
       "         0.93808165,  0.58192299,  0.08301479, -0.132683  ,  0.04921246]])"
      ]
     },
     "execution_count": 36,
     "metadata": {},
     "output_type": "execute_result"
    }
   ],
   "source": [
    "LR.coef_"
   ]
  },
  {
   "cell_type": "code",
   "execution_count": 37,
   "metadata": {},
   "outputs": [],
   "source": [
    "X_val_clean = transform_cr(X_val)"
   ]
  },
  {
   "cell_type": "code",
   "execution_count": 38,
   "metadata": {},
   "outputs": [
    {
     "name": "stdout",
     "output_type": "stream",
     "text": [
      "Validation accuracy score:  0.984313725490196\n"
     ]
    }
   ],
   "source": [
    "val_predict_get_score(LR, X_val_clean, y_val)"
   ]
  },
  {
   "cell_type": "markdown",
   "metadata": {},
   "source": [
    "Try without regularization"
   ]
  },
  {
   "cell_type": "code",
   "execution_count": 39,
   "metadata": {},
   "outputs": [
    {
     "name": "stdout",
     "output_type": "stream",
     "text": [
      "Training accuracy score:  0.9861242335714483\n",
      "Validation accuracy score:  0.9840607210626185\n"
     ]
    }
   ],
   "source": [
    "LR_noreg = LogisticRegression(penalty = \"none\")\n",
    "fit_get_score(LR_noreg, X_train_clean, y_train)\n",
    "val_predict_get_score(LR_noreg, X_val_clean, y_val)"
   ]
  },
  {
   "cell_type": "markdown",
   "metadata": {},
   "source": [
    "Logistic regression gives a pretty decent result with accuracy score of 0.9843 on the validation set. However, we can get a accuracy score of around 0.97 with a null model (classifing all data as 0s). Let's see if there are other algorithms that can do better"
   ]
  },
  {
   "cell_type": "markdown",
   "metadata": {},
   "source": [
    "#### SVM"
   ]
  },
  {
   "cell_type": "markdown",
   "metadata": {},
   "source": [
    "Start off with default C=1"
   ]
  },
  {
   "cell_type": "code",
   "execution_count": 40,
   "metadata": {},
   "outputs": [
    {
     "name": "stdout",
     "output_type": "stream",
     "text": [
      "Training accuracy score:  0.9858475088848391\n",
      "Validation accuracy score:  0.9853573687539532\n"
     ]
    }
   ],
   "source": [
    "SVM = SVC()\n",
    "fit_get_score(SVM, X_train_clean, y_train)\n",
    "val_predict_get_score(SVM, X_val_clean, y_val)"
   ]
  },
  {
   "cell_type": "markdown",
   "metadata": {},
   "source": [
    "Try Larger C (=10)"
   ]
  },
  {
   "cell_type": "code",
   "execution_count": 41,
   "metadata": {},
   "outputs": [
    {
     "name": "stdout",
     "output_type": "stream",
     "text": [
      "Training accuracy score:  0.9858158832063694\n",
      "Validation accuracy score:  0.9855471220746364\n"
     ]
    }
   ],
   "source": [
    "SVM2 = SVC(C = 10)\n",
    "fit_get_score(SVM2, X_train_clean, y_train)\n",
    "val_predict_get_score(SVM2, X_val_clean, y_val)"
   ]
  },
  {
   "cell_type": "markdown",
   "metadata": {},
   "source": [
    "Try even larger C (=1000)"
   ]
  },
  {
   "cell_type": "code",
   "execution_count": 42,
   "metadata": {},
   "outputs": [
    {
     "name": "stdout",
     "output_type": "stream",
     "text": [
      "Training accuracy score:  0.9857130997513431\n",
      "Validation accuracy score:  0.9859266287160026\n"
     ]
    }
   ],
   "source": [
    "SVM3 = SVC(C = 1000)\n",
    "fit_get_score(SVM3, X_train_clean, y_train)\n",
    "val_predict_get_score(SVM3, X_val_clean, y_val)"
   ]
  },
  {
   "cell_type": "markdown",
   "metadata": {},
   "source": [
    "The SVM with C = 1000 has the higher accuracy score on the validation set."
   ]
  },
  {
   "cell_type": "markdown",
   "metadata": {},
   "source": [
    "#### Random Forest"
   ]
  },
  {
   "cell_type": "code",
   "execution_count": 43,
   "metadata": {},
   "outputs": [
    {
     "name": "stdout",
     "output_type": "stream",
     "text": [
      "Training accuracy score:  0.9828786483185022\n",
      "Validation accuracy score:  0.9852624920936116\n"
     ]
    }
   ],
   "source": [
    "RF = RandomForestClassifier(max_depth = 3)\n",
    "fit_get_score(RF, X_train_clean, y_train)\n",
    "val_predict_get_score(RF, X_val_clean, y_val)"
   ]
  },
  {
   "cell_type": "code",
   "execution_count": 44,
   "metadata": {},
   "outputs": [
    {
     "name": "stdout",
     "output_type": "stream",
     "text": [
      "Training accuracy score:  0.9883222182250878\n",
      "Validation accuracy score:  0.9820050600885516\n"
     ]
    }
   ],
   "source": [
    "RF2 = RandomForestClassifier()\n",
    "fit_get_score(RF2, X_train_clean, y_train)\n",
    "val_predict_get_score(RF2, X_val_clean, y_val)"
   ]
  },
  {
   "cell_type": "markdown",
   "metadata": {},
   "source": [
    "The RF model where we set the maximum depth to 3 has higher accuracy score on the validation set, but still slightly lower than the SVM with c=1000."
   ]
  },
  {
   "cell_type": "markdown",
   "metadata": {},
   "source": [
    "Looks like the third SVM gives the best result in the validation set"
   ]
  },
  {
   "cell_type": "markdown",
   "metadata": {},
   "source": [
    "## Test Model on Test Set"
   ]
  },
  {
   "cell_type": "code",
   "execution_count": 45,
   "metadata": {},
   "outputs": [],
   "source": [
    "def test_predict_get_score(model, x, y):\n",
    "    pred = model.predict(x)\n",
    "    print(\"Test accuracy score: \",accuracy_score(y, pred))"
   ]
  },
  {
   "cell_type": "code",
   "execution_count": 46,
   "metadata": {},
   "outputs": [
    {
     "name": "stdout",
     "output_type": "stream",
     "text": [
      "country                0\n",
      "age                    0\n",
      "new_user               0\n",
      "source                 0\n",
      "total_pages_visited    0\n",
      "dtype: int64\n",
      "0\n"
     ]
    }
   ],
   "source": [
    "print(X_test.isna().sum())\n",
    "print(y_test.isna().sum())"
   ]
  },
  {
   "cell_type": "code",
   "execution_count": 48,
   "metadata": {},
   "outputs": [
    {
     "name": "stdout",
     "output_type": "stream",
     "text": [
      "Test accuracy score:  0.9860531309297913\n"
     ]
    }
   ],
   "source": [
    "X_test_clean = transform_cr(X_test)\n",
    "test_predict_get_score(SVM3, X_test_clean, y_test)"
   ]
  },
  {
   "cell_type": "markdown",
   "metadata": {},
   "source": [
    "Our model(best performing on the validation set) gives an accurate prediction on roughly 98.61% of the data in the test set."
   ]
  },
  {
   "cell_type": "markdown",
   "metadata": {},
   "source": [
    "Out of curiosity, let's see what's the accuracy of the Logistic Regression and Random Forest model on the test set"
   ]
  },
  {
   "cell_type": "code",
   "execution_count": 49,
   "metadata": {},
   "outputs": [
    {
     "name": "stdout",
     "output_type": "stream",
     "text": [
      "Test accuracy score:  0.9856419987349778\n"
     ]
    }
   ],
   "source": [
    "test_predict_get_score(LR, X_test_clean, y_test)"
   ]
  },
  {
   "cell_type": "code",
   "execution_count": 53,
   "metadata": {},
   "outputs": [
    {
     "name": "stdout",
     "output_type": "stream",
     "text": [
      "Test accuracy score:  0.9839342188488298\n"
     ]
    }
   ],
   "source": [
    "test_predict_get_score(RF, X_test_clean, y_test)"
   ]
  },
  {
   "cell_type": "markdown",
   "metadata": {},
   "source": [
    "## Conclusion"
   ]
  },
  {
   "cell_type": "markdown",
   "metadata": {},
   "source": [
    "Suggestions to improve conversion rate/revenue:  \n",
    "&emsp;1. Conversion rate drops as age gets older. Thus the team can either try to attract more younger people to visit the website or make improvements to the website to better suit for older users.  \n",
    "&emsp;2. There's a positive correlation between total pages visited and conversion rate. Thus, creating more incentive for user to visit multipl pages might lead to higher conversion rate.  \n",
    "&emsp;3. The conversion rate for China is extrodinarily low. Considering that China has the second largest user group in the training set, the team need to solve this issue quickly. One way to do so is to conudct a thorough inspection in every point of the conversion process for the Chinese website - from website design to payment channels.  \n",
    "&emsp;4. Returning users are much more likely to be converted compare to new users. Naturally, the team should implemnt measures to incentivize new users and recall users that has been inactive.  \n",
    "&emsp;5. Except China, the US has the lowest conversion rate while having the largest user base. This means that focusing on improving conversion rate for the US is likely to have better efficiency."
   ]
  }
 ],
 "metadata": {
  "kernelspec": {
   "display_name": "Python 3",
   "language": "python",
   "name": "python3"
  },
  "language_info": {
   "codemirror_mode": {
    "name": "ipython",
    "version": 3
   },
   "file_extension": ".py",
   "mimetype": "text/x-python",
   "name": "python",
   "nbconvert_exporter": "python",
   "pygments_lexer": "ipython3",
   "version": "3.7.4"
  }
 },
 "nbformat": 4,
 "nbformat_minor": 2
}
